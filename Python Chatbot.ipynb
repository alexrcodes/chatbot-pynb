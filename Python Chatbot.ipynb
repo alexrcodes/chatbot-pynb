{
 "cells": [
  {
   "cell_type": "code",
   "execution_count": null,
   "metadata": {},
   "outputs": [],
   "source": [
    "#  1. The name mast be in the 'cast_member' list  \n",
    "#  2. If its Micheal, Jim, or Pam say \".... is also my favorite character\"  \n",
    "#  3. If its Dwight or Angela say \"... is not my favorite character\"  \n",
    "#  4. For anyone else say \"... is a great character\"\n",
    "\n",
    "# 1. The user inputs the name \n",
    "# 2. Evaluate if the name is in list 2a. \n",
    "# Reenter name if not in list 2b. If statement dependent on name"
   ]
  },
  {
   "cell_type": "code",
   "execution_count": 9,
   "metadata": {},
   "outputs": [
    {
     "name": "stdout",
     "output_type": "stream",
     "text": [
      "Toby is a great character.\n"
     ]
    }
   ],
   "source": [
    "cast_members = ['Dwight', 'Jim', 'Pam', 'Michael', 'Kelly', 'Creed', 'Angela', 'Phyllis', 'Meredith', 'Ryan', 'Jan', 'Oscar', 'Erin', \n",
    "'Stanley', 'Toby', 'Darryl', 'Jan', 'Gabe', 'Karen', 'Mose', 'David', 'Holly'] \n",
    "\n",
    "\n",
    "name = input(\"What is your fav char of the Office?\")\n",
    "\n",
    "if name not in cast_members:\n",
    "    name = input(\"name not in list - reenter name:\")\n",
    "else:\n",
    "    if name == 'Michael' or name == 'Jim' or name == 'Pam':\n",
    "        print(name +\" is my favorite character.\")\n",
    "    elif name != 'Dwight' and name != 'Angela':\n",
    "        print(name +\" is a great character.\")\n",
    "    else:\n",
    "        print(name +\" is NOT my favorite character.\")\n",
    "    \n"
   ]
  }
 ],
 "metadata": {
  "interpreter": {
   "hash": "dfc53bb86ea414aee9c2ca3a77e511f94a1f20c74285c0eb79999334647ed88a"
  },
  "kernelspec": {
   "display_name": "Python 3.9.6 64-bit",
   "language": "python",
   "name": "python3"
  },
  "language_info": {
   "codemirror_mode": {
    "name": "ipython",
    "version": 3
   },
   "file_extension": ".py",
   "mimetype": "text/x-python",
   "name": "python",
   "nbconvert_exporter": "python",
   "pygments_lexer": "ipython3",
   "version": "3.9.6"
  },
  "orig_nbformat": 4
 },
 "nbformat": 4,
 "nbformat_minor": 2
}
